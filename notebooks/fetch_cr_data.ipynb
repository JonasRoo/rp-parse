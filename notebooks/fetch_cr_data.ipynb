{
 "cells": [
  {
   "cell_type": "markdown",
   "metadata": {},
   "source": [
    "# Imports"
   ]
  },
  {
   "cell_type": "code",
   "execution_count": 1,
   "metadata": {},
   "outputs": [],
   "source": [
    "import requests\n",
    "import json\n",
    "import pprint\n",
    "from bs4 import BeautifulSoup\n",
    "from utils import json_utils"
   ]
  },
  {
   "cell_type": "code",
   "execution_count": 108,
   "metadata": {},
   "outputs": [
    {
     "name": "stdout",
     "output_type": "stream",
     "text": [
      "The autoreload extension is already loaded. To reload it, use:\n",
      "  %reload_ext autoreload\n"
     ]
    }
   ],
   "source": [
    "%load_ext autoreload\n",
    "%autoreload 2"
   ]
  },
  {
   "cell_type": "markdown",
   "metadata": {},
   "source": [
    "# Fetching all episode URLs from the overview page"
   ]
  },
  {
   "cell_type": "code",
   "execution_count": 12,
   "metadata": {},
   "outputs": [],
   "source": [
    "# this is the page containing all the transcribed episodes\n",
    "episode_overview_url = \"https://kryogenix.org/crsearch/html/index.html\"\n",
    "# this is the base url prefix to append the hrefs to\n",
    "base_page = \"https://kryogenix.org/crsearch/html\""
   ]
  },
  {
   "cell_type": "code",
   "execution_count": 8,
   "metadata": {},
   "outputs": [],
   "source": [
    "# send the request\n",
    "r = requests.get(episode_overview_url)\n",
    "r.raise_for_status()"
   ]
  },
  {
   "cell_type": "code",
   "execution_count": 9,
   "metadata": {},
   "outputs": [],
   "source": [
    "# soupify\n",
    "soup = BeautifulSoup(r.content)"
   ]
  },
  {
   "cell_type": "code",
   "execution_count": 18,
   "metadata": {},
   "outputs": [
    {
     "data": {
      "text/plain": [
       "['https://kryogenix.org/crsearch/html/cr2-110.html',\n",
       " 'https://kryogenix.org/crsearch/html/cr2-109.html',\n",
       " 'https://kryogenix.org/crsearch/html/cr2-108.html',\n",
       " 'https://kryogenix.org/crsearch/html/cr2-107.html',\n",
       " 'https://kryogenix.org/crsearch/html/cr2-106.html']"
      ]
     },
     "execution_count": 18,
     "metadata": {},
     "output_type": "execute_result"
    }
   ],
   "source": [
    "transcript_urls = []\n",
    "\n",
    "# every li represents a transcript entry\n",
    "for li in soup.find_all(\"li\"):\n",
    "    # href contains the suffix to append to the base_url\n",
    "    url_suffix = li.find(\"a\")[\"href\"]\n",
    "    full_url = \"/\".join([base_page, url_suffix])\n",
    "    transcript_urls.append(full_url)\n",
    "    \n",
    "# verify\n",
    "transcript_urls[:5]"
   ]
  },
  {
   "cell_type": "markdown",
   "metadata": {},
   "source": [
    "# Scraping the transcripts"
   ]
  },
  {
   "cell_type": "markdown",
   "metadata": {},
   "source": [
    "## Testing on one URL"
   ]
  },
  {
   "cell_type": "code",
   "execution_count": 19,
   "metadata": {},
   "outputs": [],
   "source": [
    "test_url = transcript_urls[0]\n",
    "r = requests.get(test_url)\n",
    "r.raise_for_status()"
   ]
  },
  {
   "cell_type": "code",
   "execution_count": 94,
   "metadata": {},
   "outputs": [],
   "source": [
    "def convert_transcript_html_to_dict(raw_html):\n",
    "    parsed = []\n",
    "    soup = BeautifulSoup(raw_html)\n",
    "    lines = soup.find(\"div\", {\"id\": \"lines\"})\n",
    "    # The lines of the speaker are (sadly) not wrapped in their speaker's HTML tag\n",
    "    # dt >>> Speaker\n",
    "    # dd >>> line (+hrefs for YT timestamps)\n",
    "    current_speakers, current_lines = [], []\n",
    "    for ele in lines.find_all([\"dt\", \"dd\"]):\n",
    "        if ele.name == \"dt\":\n",
    "            if current_lines:\n",
    "                # A new speaker has been hit >>> write the lines of the previous speaker to the parsed output\n",
    "                parsed.append({\n",
    "                    \"speakers\": current_speakers,\n",
    "                    \"lines\": current_lines,\n",
    "                })\n",
    "                current_lines = []\n",
    "            # speaker tag\n",
    "            current_speakers = [str(speaker).strip().title() for speaker in ele.find(\"strong\").contents]\n",
    "            continue\n",
    "        elif ele.name == \"dd\":\n",
    "            # lines (multiple) of the current speaker\n",
    "            ele.find(\"a\").extract() # The <a> tag only contains an arrow to click for the YT-timestamp > remove\n",
    "            current_lines.append(ele.get_text().strip())\n",
    "            \n",
    "    return parsed"
   ]
  },
  {
   "cell_type": "code",
   "execution_count": 92,
   "metadata": {},
   "outputs": [],
   "source": [
    "# validation\n",
    "d = convert_transcript_html_to_dict(raw_html=r.content)\n",
    "json_utils.dump_json_to_file(data=d, folder_name=\"data\", file_name=\"test.json\")"
   ]
  },
  {
   "cell_type": "markdown",
   "metadata": {},
   "source": [
    "# Scrape all transcripts + save to file"
   ]
  },
  {
   "cell_type": "code",
   "execution_count": 98,
   "metadata": {},
   "outputs": [
    {
     "name": "stdout",
     "output_type": "stream",
     "text": [
      "Working on page 0: https://kryogenix.org/crsearch/html/cr2-110.html\n",
      "Working on page 1: https://kryogenix.org/crsearch/html/cr2-109.html\n",
      "Working on page 2: https://kryogenix.org/crsearch/html/cr2-108.html\n",
      "Working on page 3: https://kryogenix.org/crsearch/html/cr2-107.html\n",
      "Working on page 4: https://kryogenix.org/crsearch/html/cr2-106.html\n",
      "Working on page 5: https://kryogenix.org/crsearch/html/cr2-105.html\n",
      "Working on page 6: https://kryogenix.org/crsearch/html/cr2-104.html\n",
      "Working on page 7: https://kryogenix.org/crsearch/html/cr2-103.html\n",
      "Working on page 8: https://kryogenix.org/crsearch/html/cr2-102.html\n",
      "Working on page 9: https://kryogenix.org/crsearch/html/cr2-101.html\n",
      "Working on page 10: https://kryogenix.org/crsearch/html/cr2-100.html\n",
      "Working on page 11: https://kryogenix.org/crsearch/html/cr2-99.html\n",
      "Working on page 12: https://kryogenix.org/crsearch/html/cr2-98.html\n",
      "Working on page 13: https://kryogenix.org/crsearch/html/cr2-97.html\n",
      "Working on page 14: https://kryogenix.org/crsearch/html/cr2-96.html\n",
      "Working on page 15: https://kryogenix.org/crsearch/html/cr2-95.html\n",
      "Working on page 16: https://kryogenix.org/crsearch/html/cr2-94.html\n",
      "Working on page 17: https://kryogenix.org/crsearch/html/cr2-93.html\n",
      "Working on page 18: https://kryogenix.org/crsearch/html/cr2-92.html\n",
      "Working on page 19: https://kryogenix.org/crsearch/html/cr2-91.html\n",
      "Working on page 20: https://kryogenix.org/crsearch/html/cr2-90.html\n",
      "Working on page 21: https://kryogenix.org/crsearch/html/cr2-89.html\n",
      "Working on page 22: https://kryogenix.org/crsearch/html/cr2-88.html\n",
      "Working on page 23: https://kryogenix.org/crsearch/html/cr2-87.html\n",
      "Working on page 24: https://kryogenix.org/crsearch/html/cr2-86.html\n",
      "Working on page 25: https://kryogenix.org/crsearch/html/cr2-85.html\n",
      "Working on page 26: https://kryogenix.org/crsearch/html/cr2-84.html\n",
      "Working on page 27: https://kryogenix.org/crsearch/html/cr2-83.html\n",
      "Working on page 28: https://kryogenix.org/crsearch/html/cr2-82.html\n",
      "Working on page 29: https://kryogenix.org/crsearch/html/cr2-81.html\n",
      "Working on page 30: https://kryogenix.org/crsearch/html/cr2-80.html\n",
      "Working on page 31: https://kryogenix.org/crsearch/html/cr2-79.html\n",
      "Working on page 32: https://kryogenix.org/crsearch/html/cr2-78.html\n",
      "Working on page 33: https://kryogenix.org/crsearch/html/cr2-77.html\n",
      "Working on page 34: https://kryogenix.org/crsearch/html/cr2-76.html\n",
      "Working on page 35: https://kryogenix.org/crsearch/html/cr2-75.html\n",
      "Working on page 36: https://kryogenix.org/crsearch/html/cr2-74.html\n",
      "Working on page 37: https://kryogenix.org/crsearch/html/cr2-73.html\n",
      "Working on page 38: https://kryogenix.org/crsearch/html/cr2-72.html\n",
      "Working on page 39: https://kryogenix.org/crsearch/html/cr2-71.html\n",
      "Working on page 40: https://kryogenix.org/crsearch/html/cr2-70.html\n",
      "Working on page 41: https://kryogenix.org/crsearch/html/cr2-69.html\n",
      "Working on page 42: https://kryogenix.org/crsearch/html/cr2-68.html\n",
      "Working on page 43: https://kryogenix.org/crsearch/html/cr2-67.html\n",
      "Working on page 44: https://kryogenix.org/crsearch/html/cr2-66.html\n",
      "Working on page 45: https://kryogenix.org/crsearch/html/cr2-65.html\n",
      "Working on page 46: https://kryogenix.org/crsearch/html/cr2-64.html\n",
      "Working on page 47: https://kryogenix.org/crsearch/html/cr2-63.html\n",
      "Working on page 48: https://kryogenix.org/crsearch/html/cr2-62.html\n",
      "Working on page 49: https://kryogenix.org/crsearch/html/cr2-61.html\n",
      "Working on page 50: https://kryogenix.org/crsearch/html/cr2-60.html\n",
      "Working on page 51: https://kryogenix.org/crsearch/html/cr2-59.html\n",
      "Working on page 52: https://kryogenix.org/crsearch/html/cr2-58.html\n",
      "Working on page 53: https://kryogenix.org/crsearch/html/cr2-57.html\n",
      "Working on page 54: https://kryogenix.org/crsearch/html/cr2-56.html\n",
      "Working on page 55: https://kryogenix.org/crsearch/html/cr2-55.html\n",
      "Working on page 56: https://kryogenix.org/crsearch/html/cr2-54.html\n",
      "Working on page 57: https://kryogenix.org/crsearch/html/cr2-53.html\n",
      "Working on page 58: https://kryogenix.org/crsearch/html/cr2-52.html\n",
      "Working on page 59: https://kryogenix.org/crsearch/html/cr2-51.html\n",
      "Working on page 60: https://kryogenix.org/crsearch/html/cr2-50.html\n",
      "Working on page 61: https://kryogenix.org/crsearch/html/cr2-49.html\n",
      "Working on page 62: https://kryogenix.org/crsearch/html/cr2-48.html\n",
      "Working on page 63: https://kryogenix.org/crsearch/html/cr2-47.html\n",
      "Working on page 64: https://kryogenix.org/crsearch/html/cr2-46.html\n",
      "Working on page 65: https://kryogenix.org/crsearch/html/cr2-45.html\n",
      "Working on page 66: https://kryogenix.org/crsearch/html/cr2-44.html\n",
      "Working on page 67: https://kryogenix.org/crsearch/html/cr2-43.html\n",
      "Working on page 68: https://kryogenix.org/crsearch/html/cr2-42.html\n",
      "Working on page 69: https://kryogenix.org/crsearch/html/cr2-41.html\n",
      "Working on page 70: https://kryogenix.org/crsearch/html/cr2-40.html\n",
      "Working on page 71: https://kryogenix.org/crsearch/html/cr2-39.html\n",
      "Working on page 72: https://kryogenix.org/crsearch/html/cr2-38.html\n",
      "Working on page 73: https://kryogenix.org/crsearch/html/cr2-37.html\n",
      "Working on page 74: https://kryogenix.org/crsearch/html/cr2-36.html\n",
      "Working on page 75: https://kryogenix.org/crsearch/html/cr2-35.html\n",
      "Working on page 76: https://kryogenix.org/crsearch/html/cr2-34.html\n",
      "Working on page 77: https://kryogenix.org/crsearch/html/cr2-33.html\n",
      "Working on page 78: https://kryogenix.org/crsearch/html/cr2-32.html\n",
      "Working on page 79: https://kryogenix.org/crsearch/html/cr2-31.html\n",
      "Working on page 80: https://kryogenix.org/crsearch/html/cr2-30.html\n",
      "Working on page 81: https://kryogenix.org/crsearch/html/cr2-29.html\n",
      "Working on page 82: https://kryogenix.org/crsearch/html/cr2-28.html\n",
      "Working on page 83: https://kryogenix.org/crsearch/html/cr2-27.html\n",
      "Working on page 84: https://kryogenix.org/crsearch/html/cr2-26.html\n",
      "Working on page 85: https://kryogenix.org/crsearch/html/cr2-25.html\n",
      "Working on page 86: https://kryogenix.org/crsearch/html/cr2-24.html\n",
      "Working on page 87: https://kryogenix.org/crsearch/html/cr2-23.html\n",
      "Working on page 88: https://kryogenix.org/crsearch/html/cr2-22.html\n",
      "Working on page 89: https://kryogenix.org/crsearch/html/cr2-21.html\n",
      "Working on page 90: https://kryogenix.org/crsearch/html/cr2-20.html\n",
      "Working on page 91: https://kryogenix.org/crsearch/html/cr2-19.html\n",
      "Working on page 92: https://kryogenix.org/crsearch/html/cr2-18.html\n",
      "Working on page 93: https://kryogenix.org/crsearch/html/cr2-17.html\n",
      "Working on page 94: https://kryogenix.org/crsearch/html/cr2-16.html\n",
      "Working on page 95: https://kryogenix.org/crsearch/html/cr2-15.html\n",
      "Working on page 96: https://kryogenix.org/crsearch/html/cr2-14.html\n",
      "Working on page 97: https://kryogenix.org/crsearch/html/cr2-13.html\n",
      "Working on page 98: https://kryogenix.org/crsearch/html/cr2-12.html\n",
      "Working on page 99: https://kryogenix.org/crsearch/html/cr2-11.html\n",
      "Working on page 100: https://kryogenix.org/crsearch/html/cr2-10.html\n",
      "Working on page 101: https://kryogenix.org/crsearch/html/cr2-9.html\n",
      "Working on page 102: https://kryogenix.org/crsearch/html/cr2-8.html\n",
      "Working on page 103: https://kryogenix.org/crsearch/html/cr2-7.html\n",
      "Working on page 104: https://kryogenix.org/crsearch/html/cr2-6.html\n",
      "Working on page 105: https://kryogenix.org/crsearch/html/cr2-5.html\n",
      "Working on page 106: https://kryogenix.org/crsearch/html/cr2-4.html\n",
      "Working on page 107: https://kryogenix.org/crsearch/html/cr2-3.html\n",
      "Working on page 108: https://kryogenix.org/crsearch/html/cr2-2.html\n",
      "Working on page 109: https://kryogenix.org/crsearch/html/cr2-1.html\n",
      "Working on page 110: https://kryogenix.org/crsearch/html/cr1-115.08.html\n",
      "Working on page 111: https://kryogenix.org/crsearch/html/cr1-115.07.html\n",
      "Working on page 112: https://kryogenix.org/crsearch/html/cr1-115.06.html\n",
      "Working on page 113: https://kryogenix.org/crsearch/html/cr1-115.05.html\n",
      "Working on page 114: https://kryogenix.org/crsearch/html/cr1-115.04.html\n",
      "Working on page 115: https://kryogenix.org/crsearch/html/cr1-115.03.html\n",
      "Working on page 116: https://kryogenix.org/crsearch/html/cr1-115.02.html\n",
      "Working on page 117: https://kryogenix.org/crsearch/html/cr1-115.01.html\n",
      "Working on page 118: https://kryogenix.org/crsearch/html/cr1-115.html\n",
      "Working on page 119: https://kryogenix.org/crsearch/html/cr1-114.html\n"
     ]
    },
    {
     "name": "stdout",
     "output_type": "stream",
     "text": [
      "Working on page 120: https://kryogenix.org/crsearch/html/cr1-113.html\n",
      "Working on page 121: https://kryogenix.org/crsearch/html/cr1-112.01.html\n",
      "Working on page 122: https://kryogenix.org/crsearch/html/cr1-112.html\n",
      "Working on page 123: https://kryogenix.org/crsearch/html/cr1-111.01.html\n",
      "Working on page 124: https://kryogenix.org/crsearch/html/cr1-111.html\n",
      "Working on page 125: https://kryogenix.org/crsearch/html/cr1-110.html\n",
      "Working on page 126: https://kryogenix.org/crsearch/html/cr1-109.html\n",
      "Working on page 127: https://kryogenix.org/crsearch/html/cr1-108.html\n",
      "Working on page 128: https://kryogenix.org/crsearch/html/cr1-107.html\n",
      "Working on page 129: https://kryogenix.org/crsearch/html/cr1-106.html\n",
      "Working on page 130: https://kryogenix.org/crsearch/html/cr1-105.html\n",
      "Working on page 131: https://kryogenix.org/crsearch/html/cr1-104.html\n",
      "Working on page 132: https://kryogenix.org/crsearch/html/cr1-103.html\n",
      "Working on page 133: https://kryogenix.org/crsearch/html/cr1-102.01.html\n",
      "Working on page 134: https://kryogenix.org/crsearch/html/cr1-102.html\n",
      "Working on page 135: https://kryogenix.org/crsearch/html/cr1-101.html\n",
      "Working on page 136: https://kryogenix.org/crsearch/html/cr1-100.html\n",
      "Working on page 137: https://kryogenix.org/crsearch/html/cr1-99.html\n",
      "Working on page 138: https://kryogenix.org/crsearch/html/cr1-98.02.html\n",
      "Working on page 139: https://kryogenix.org/crsearch/html/cr1-98.html\n",
      "Working on page 140: https://kryogenix.org/crsearch/html/cr1-97.html\n",
      "Working on page 141: https://kryogenix.org/crsearch/html/cr1-96.html\n",
      "Working on page 142: https://kryogenix.org/crsearch/html/cr1-95.html\n",
      "Working on page 143: https://kryogenix.org/crsearch/html/cr1-94.01.html\n",
      "Working on page 144: https://kryogenix.org/crsearch/html/cr1-94.html\n",
      "Working on page 145: https://kryogenix.org/crsearch/html/cr1-93.01.html\n",
      "Working on page 146: https://kryogenix.org/crsearch/html/cr1-93.html\n",
      "Working on page 147: https://kryogenix.org/crsearch/html/cr1-92.html\n",
      "Working on page 148: https://kryogenix.org/crsearch/html/cr1-91.html\n",
      "Working on page 149: https://kryogenix.org/crsearch/html/cr1-90.html\n",
      "Working on page 150: https://kryogenix.org/crsearch/html/cr1-89.html\n",
      "Working on page 151: https://kryogenix.org/crsearch/html/cr1-88.html\n",
      "Working on page 152: https://kryogenix.org/crsearch/html/cr1-87.html\n",
      "Working on page 153: https://kryogenix.org/crsearch/html/cr1-86.html\n",
      "Working on page 154: https://kryogenix.org/crsearch/html/cr1-85.html\n",
      "Working on page 155: https://kryogenix.org/crsearch/html/cr1-84.html\n",
      "Working on page 156: https://kryogenix.org/crsearch/html/cr1-83.html\n",
      "Working on page 157: https://kryogenix.org/crsearch/html/cr1-82.html\n",
      "Working on page 158: https://kryogenix.org/crsearch/html/cr1-81.html\n",
      "Working on page 159: https://kryogenix.org/crsearch/html/cr1-80.html\n",
      "Working on page 160: https://kryogenix.org/crsearch/html/cr1-79.html\n",
      "Working on page 161: https://kryogenix.org/crsearch/html/cr1-78.html\n",
      "Working on page 162: https://kryogenix.org/crsearch/html/cr1-77.html\n",
      "Working on page 163: https://kryogenix.org/crsearch/html/cr1-76.html\n",
      "Working on page 164: https://kryogenix.org/crsearch/html/cr1-75.html\n",
      "Working on page 165: https://kryogenix.org/crsearch/html/cr1-74.01.html\n",
      "Working on page 166: https://kryogenix.org/crsearch/html/cr1-74.html\n",
      "Working on page 167: https://kryogenix.org/crsearch/html/cr1-73.html\n",
      "Working on page 168: https://kryogenix.org/crsearch/html/cr1-72.html\n",
      "Working on page 169: https://kryogenix.org/crsearch/html/cr1-71.html\n",
      "Working on page 170: https://kryogenix.org/crsearch/html/cr1-70.html\n",
      "Working on page 171: https://kryogenix.org/crsearch/html/cr1-69.html\n",
      "Working on page 172: https://kryogenix.org/crsearch/html/cr1-68.html\n",
      "Working on page 173: https://kryogenix.org/crsearch/html/cr1-67.html\n",
      "Working on page 174: https://kryogenix.org/crsearch/html/cr1-66.html\n",
      "Working on page 175: https://kryogenix.org/crsearch/html/cr1-65.01.html\n",
      "Working on page 176: https://kryogenix.org/crsearch/html/cr1-65.html\n",
      "Working on page 177: https://kryogenix.org/crsearch/html/cr1-64.html\n",
      "Working on page 178: https://kryogenix.org/crsearch/html/cr1-63.html\n",
      "Working on page 179: https://kryogenix.org/crsearch/html/cr1-62.html\n",
      "Working on page 180: https://kryogenix.org/crsearch/html/cr1-61.html\n",
      "Working on page 181: https://kryogenix.org/crsearch/html/cr1-60.html\n",
      "Working on page 182: https://kryogenix.org/crsearch/html/cr1-59.html\n",
      "Working on page 183: https://kryogenix.org/crsearch/html/cr1-58.html\n",
      "Working on page 184: https://kryogenix.org/crsearch/html/cr1-57.html\n",
      "Working on page 185: https://kryogenix.org/crsearch/html/cr1-56.html\n",
      "Working on page 186: https://kryogenix.org/crsearch/html/cr1-55.html\n",
      "Working on page 187: https://kryogenix.org/crsearch/html/cr1-54.01.html\n",
      "Working on page 188: https://kryogenix.org/crsearch/html/cr1-54.html\n",
      "Working on page 189: https://kryogenix.org/crsearch/html/cr1-53.html\n",
      "Working on page 190: https://kryogenix.org/crsearch/html/cr1-52.html\n",
      "Working on page 191: https://kryogenix.org/crsearch/html/cr1-51.html\n",
      "Working on page 192: https://kryogenix.org/crsearch/html/cr1-50.html\n",
      "Working on page 193: https://kryogenix.org/crsearch/html/cr1-49.html\n",
      "Working on page 194: https://kryogenix.org/crsearch/html/cr1-48.html\n",
      "Working on page 195: https://kryogenix.org/crsearch/html/cr1-47.html\n",
      "Working on page 196: https://kryogenix.org/crsearch/html/cr1-45.01.html\n",
      "Working on page 197: https://kryogenix.org/crsearch/html/cr1-45.html\n",
      "Working on page 198: https://kryogenix.org/crsearch/html/cr1-44.html\n",
      "Working on page 199: https://kryogenix.org/crsearch/html/cr1-43.01.html\n",
      "Working on page 200: https://kryogenix.org/crsearch/html/cr1-43.html\n",
      "Working on page 201: https://kryogenix.org/crsearch/html/cr1-42.html\n",
      "Working on page 202: https://kryogenix.org/crsearch/html/cr1-41.html\n",
      "Working on page 203: https://kryogenix.org/crsearch/html/cr1-40.html\n",
      "Working on page 204: https://kryogenix.org/crsearch/html/cr1-39.html\n",
      "Working on page 205: https://kryogenix.org/crsearch/html/cr1-38.html\n",
      "Working on page 206: https://kryogenix.org/crsearch/html/cr1-37.html\n",
      "Working on page 207: https://kryogenix.org/crsearch/html/cr1-36.html\n",
      "Working on page 208: https://kryogenix.org/crsearch/html/cr1-35.01.html\n",
      "Working on page 209: https://kryogenix.org/crsearch/html/cr1-35.html\n",
      "Working on page 210: https://kryogenix.org/crsearch/html/cr1-34.html\n",
      "Working on page 211: https://kryogenix.org/crsearch/html/cr1-33.01.html\n",
      "Working on page 212: https://kryogenix.org/crsearch/html/cr1-33.html\n",
      "Working on page 213: https://kryogenix.org/crsearch/html/cr1-32.html\n",
      "Working on page 214: https://kryogenix.org/crsearch/html/cr1-31.01.html\n",
      "Working on page 215: https://kryogenix.org/crsearch/html/cr1-31.html\n",
      "Working on page 216: https://kryogenix.org/crsearch/html/cr1-30.html\n",
      "Working on page 217: https://kryogenix.org/crsearch/html/cr1-29.html\n",
      "Working on page 218: https://kryogenix.org/crsearch/html/cr1-28.html\n",
      "Working on page 219: https://kryogenix.org/crsearch/html/cr1-27.html\n",
      "Working on page 220: https://kryogenix.org/crsearch/html/cr1-26.html\n",
      "Working on page 221: https://kryogenix.org/crsearch/html/cr1-25.html\n",
      "Working on page 222: https://kryogenix.org/crsearch/html/cr1-24.html\n",
      "Working on page 223: https://kryogenix.org/crsearch/html/cr1-23.html\n",
      "Working on page 224: https://kryogenix.org/crsearch/html/cr1-22.html\n",
      "Working on page 225: https://kryogenix.org/crsearch/html/cr1-21.html\n",
      "Working on page 226: https://kryogenix.org/crsearch/html/cr1-20.html\n",
      "Working on page 227: https://kryogenix.org/crsearch/html/cr1-19.html\n",
      "Working on page 228: https://kryogenix.org/crsearch/html/cr1-18.html\n",
      "Working on page 229: https://kryogenix.org/crsearch/html/cr1-17.html\n",
      "Working on page 230: https://kryogenix.org/crsearch/html/cr1-16.html\n",
      "Working on page 231: https://kryogenix.org/crsearch/html/cr1-15.html\n",
      "Working on page 232: https://kryogenix.org/crsearch/html/cr1-14.html\n",
      "Working on page 233: https://kryogenix.org/crsearch/html/cr1-13.html\n",
      "Working on page 234: https://kryogenix.org/crsearch/html/cr1-12.html\n",
      "Working on page 235: https://kryogenix.org/crsearch/html/cr1-11.html\n",
      "Working on page 236: https://kryogenix.org/crsearch/html/cr1-10.html\n",
      "Working on page 237: https://kryogenix.org/crsearch/html/cr1-9.html\n"
     ]
    },
    {
     "name": "stdout",
     "output_type": "stream",
     "text": [
      "Working on page 238: https://kryogenix.org/crsearch/html/cr1-8.html\n",
      "Working on page 239: https://kryogenix.org/crsearch/html/cr1-7.html\n",
      "Working on page 240: https://kryogenix.org/crsearch/html/cr1-6.html\n",
      "Working on page 241: https://kryogenix.org/crsearch/html/cr1-5.html\n",
      "Working on page 242: https://kryogenix.org/crsearch/html/cr1-4.html\n",
      "Working on page 243: https://kryogenix.org/crsearch/html/cr1-3.html\n",
      "Working on page 244: https://kryogenix.org/crsearch/html/cr1-2.html\n",
      "Working on page 245: https://kryogenix.org/crsearch/html/cr1-1.html\n"
     ]
    }
   ],
   "source": [
    "for idx, transcript_url in enumerate(transcript_urls):\n",
    "    # for each URL <-> each full CR transcript\n",
    "    print(f\"Working on page {idx}: {transcript_url}\")\n",
    "    r = requests.get(transcript_url)\n",
    "    r.raise_for_status()\n",
    "    \n",
    "    data = convert_transcript_html_to_dict(raw_html=r.content)\n",
    "    # grabbing the last suffix of the URL (name of the episode), removing the file extension \".html\"\n",
    "    file_name = transcript_url.split(\"/\")[-1].replace(\"html\", \"\").replace(\".\", \"\")\n",
    "    # save the source to a file in the /data/ directory\n",
    "    json_utils.dump_json_to_file(data=data, folder_name=\"data\", file_name=f\"{file_name}.json\")"
   ]
  },
  {
   "cell_type": "markdown",
   "metadata": {},
   "source": [
    "# Merge all the individual data files"
   ]
  },
  {
   "cell_type": "code",
   "execution_count": 2,
   "metadata": {},
   "outputs": [],
   "source": [
    "# in the /data/ dir, merge all the .json files + nest them into a single dict for their respective episode\n",
    "json_utils.merge_all_json_in_folder(dir_name=\"data\", merged_file_name=\"all_episodes_merged.json\", prepend_filename=True)"
   ]
  }
 ],
 "metadata": {
  "kernelspec": {
   "display_name": "Python 3",
   "language": "python",
   "name": "python3"
  },
  "language_info": {
   "codemirror_mode": {
    "name": "ipython",
    "version": 3
   },
   "file_extension": ".py",
   "mimetype": "text/x-python",
   "name": "python",
   "nbconvert_exporter": "python",
   "pygments_lexer": "ipython3",
   "version": "3.6.9"
  }
 },
 "nbformat": 4,
 "nbformat_minor": 2
}
